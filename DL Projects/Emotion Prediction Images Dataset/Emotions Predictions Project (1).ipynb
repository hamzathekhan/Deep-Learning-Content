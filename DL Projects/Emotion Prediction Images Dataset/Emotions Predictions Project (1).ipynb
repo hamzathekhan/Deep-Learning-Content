{
 "cells": [
  {
   "cell_type": "code",
   "execution_count": 14,
   "id": "a34f5bd8-ed8e-4890-b50d-7b30a62335b4",
   "metadata": {},
   "outputs": [],
   "source": [
    "import os \n",
    "import pathlib\n"
   ]
  },
  {
   "cell_type": "code",
   "execution_count": 18,
   "id": "663571d9-8d94-4b9d-b054-338b222055d8",
   "metadata": {},
   "outputs": [
    {
     "data": {
      "text/plain": [
       "WindowsPath('D:/Jupyter Notebook/data/train')"
      ]
     },
     "execution_count": 18,
     "metadata": {},
     "output_type": "execute_result"
    }
   ],
   "source": [
    "path = r\"D:\\Jupyter Notebook\\data\\train\"\n",
    "path = pathlib.Path(path)\n",
    "path"
   ]
  },
  {
   "cell_type": "code",
   "execution_count": 19,
   "id": "97ea0b99-42ce-4cc7-980e-a56c7593bf69",
   "metadata": {},
   "outputs": [],
   "source": [
    "mode_name = {\n",
    "    \"angry\" : list(path.glob(\"angry/*\")),\n",
    "    \"disgust\" : list(path.glob(\"disgust/*\")),\n",
    "    \"fear\" : list(path.glob(\"fear/*\")),\n",
    "    \"happy\" : list(path.glob(\"happy/*\")),\n",
    "    \"neutral\" :list(path.glob(\"neutral/*\")),\n",
    "    \"sad\" : list(path.glob(\"sad/*\")),\n",
    "    \"surprise\" : list(path.glob(\"surprise/*\")),\n",
    "}\n",
    "\n",
    "mode_label  = {\n",
    "    \"angry\" : 0,\n",
    "    \"disgust\" :1,\n",
    "    \"fear\" : 2,\n",
    "    \"happy\" : 3,\n",
    "    \"neutral\" : 4,\n",
    "    \"sad\" : 5,\n",
    "    \"surprise\" : 6\n",
    "}"
   ]
  },
  {
   "cell_type": "code",
   "execution_count": 20,
   "id": "cefa812e-3406-47a8-98f8-97e217adb0b5",
   "metadata": {},
   "outputs": [
    {
     "data": {
      "text/plain": [
       "28709"
      ]
     },
     "execution_count": 20,
     "metadata": {},
     "output_type": "execute_result"
    }
   ],
   "source": [
    "count = 0\n",
    "for key in mode_name.keys():\n",
    "    count = count + len(mode_name[key])\n",
    "count\n",
    "    "
   ]
  },
  {
   "cell_type": "code",
   "execution_count": 21,
   "id": "6839e488-5bac-474e-954d-b674d879849e",
   "metadata": {},
   "outputs": [],
   "source": [
    "import matplotlib.pyplot as plt\n",
    "import cv2 as cv\n",
    "import numpy as np\n",
    "\n",
    "img = cv.imread(str(mode_name[\"sad\"][0]))"
   ]
  },
  {
   "cell_type": "code",
   "execution_count": 31,
   "id": "b6a2d69f-7cb5-41e3-9b87-6552e893540c",
   "metadata": {},
   "outputs": [
    {
     "data": {
      "text/plain": [
       "<matplotlib.image.AxesImage at 0x18c31695600>"
      ]
     },
     "execution_count": 31,
     "metadata": {},
     "output_type": "execute_result"
    },
    {
     "data": {
      "image/png": "[encoded data removed]",
      "text/plain": [
       "<Figure size 500x100 with 1 Axes>"
      ]
     },
     "metadata": {},
     "output_type": "display_data"
    }
   ],
   "source": [
    "plt.figure(figsize = (5,1))\n",
    "plt.imshow(img)"
   ]
  },
  {
   "cell_type": "code",
   "execution_count": 24,
   "id": "c6da5fbb-a3fc-44ef-8a07-5b7b7f9ac23e",
   "metadata": {},
   "outputs": [
    {
     "data": {
      "text/plain": [
       "(48, 48, 3)"
      ]
     },
     "execution_count": 24,
     "metadata": {},
     "output_type": "execute_result"
    }
   ],
   "source": [
    "img.shape"
   ]
  },
  {
   "cell_type": "code",
   "execution_count": 25,
   "id": "4e2af5ca-eb49-4073-acd8-80616a850bb5",
   "metadata": {},
   "outputs": [],
   "source": [
    "X , y = [] , []\n",
    "\n",
    "for mn , mv in mode_name.items():\n",
    "    for mv_ in mv:\n",
    "        img = cv.imread(mv_)\n",
    "        X.append(img)\n",
    "        y.append(mode_label[mn])\n",
    "        "
   ]
  },
  {
   "cell_type": "code",
   "execution_count": 39,
   "id": "26aba6c1-bff1-4b70-aa73-a733f47b4cfa",
   "metadata": {},
   "outputs": [],
   "source": [
    "from sklearn.model_selection import train_test_split\n",
    "\n",
    "X_train , X_test , y_train , y_test = train_test_split(X,y,test_size=0.3,random_state=0,stratify=y)"
   ]
  },
  {
   "cell_type": "code",
   "execution_count": 40,
   "id": "26f89cc9-4a5c-4f22-b29f-32b623eed6a2",
   "metadata": {},
   "outputs": [
    {
     "data": {
      "text/plain": [
       "(20096, 8613, 20096, 8613)"
      ]
     },
     "execution_count": 40,
     "metadata": {},
     "output_type": "execute_result"
    }
   ],
   "source": [
    "len(X_train) , len(X_test) , len(y_train) ,len(y_test)"
   ]
  },
  {
   "cell_type": "code",
   "execution_count": 42,
   "id": "a48e24b7-22f2-401a-8911-1447421220b7",
   "metadata": {},
   "outputs": [],
   "source": [
    "import pandas as pd"
   ]
  },
  {
   "cell_type": "code",
   "execution_count": 45,
   "id": "80999673-4aa6-45a5-a1cd-9fc495a4b8ab",
   "metadata": {},
   "outputs": [
    {
     "data": {
      "text/plain": [
       "(28709, 48, 48, 3)"
      ]
     },
     "execution_count": 45,
     "metadata": {},
     "output_type": "execute_result"
    }
   ],
   "source": [
    "X = np.array(X)\n",
    "y = np.array(y)\n",
    "\n",
    "X.shape"
   ]
  },
  {
   "cell_type": "code",
   "execution_count": 53,
   "id": "952fbcfe-94f0-424a-bcd3-81cfda6be075",
   "metadata": {},
   "outputs": [],
   "source": [
    "import tensorflow as tf\n",
    "from tensorflow import keras\n",
    "\n",
    "model = keras.Sequential([\n",
    "    #### CNN\n",
    "    keras.layers.Conv2D(16,3,padding=\"same\",activation=\"relu\"),\n",
    "    keras.layers.MaxPooling2D(),\n",
    "\n",
    "    keras.layers.Conv2D(32,3,padding=\"same\",activation=\"relu\"),\n",
    "    keras.layers.MaxPooling2D(),\n",
    "    ### Dense\n",
    "    keras.layers.Flatten(),\n",
    "    keras.layers.Dense(200,activation=\"relu\"),\n",
    "    keras.layers.Dense(7,activation=\"softmax\")\n",
    "])\n",
    "\n",
    "model.compile(optimizer=\"adam\",loss=\"sparse_categorical_crossentropy\",metrics=[\"accuracy\"])\n"
   ]
  },
  {
   "cell_type": "code",
   "execution_count": 56,
   "id": "0ccc7db6-1fee-4a9a-bd95-602acd826747",
   "metadata": {},
   "outputs": [],
   "source": [
    "from sklearn.model_selection import train_test_split\n",
    "\n",
    "X_train , X_test , y_train , y_test = train_test_split(X,y,test_size=0.3,random_state=0,stratify=y)"
   ]
  },
  {
   "cell_type": "code",
   "execution_count": 57,
   "id": "3fd3c0a9-e389-43f0-ba67-f86a594b549d",
   "metadata": {},
   "outputs": [
    {
     "name": "stdout",
     "output_type": "stream",
     "text": [
      "Epoch 1/5\n",
      "\u001b[1m628/628\u001b[0m \u001b[32m━━━━━━━━━━━━━━━━━━━━\u001b[0m\u001b[37m\u001b[0m \u001b[1m24s\u001b[0m 38ms/step - accuracy: 0.3252 - loss: 1.6862\n",
      "Epoch 2/5\n",
      "\u001b[1m628/628\u001b[0m \u001b[32m━━━━━━━━━━━━━━━━━━━━\u001b[0m\u001b[37m\u001b[0m \u001b[1m25s\u001b[0m 39ms/step - accuracy: 0.3867 - loss: 1.5525\n",
      "Epoch 3/5\n",
      "\u001b[1m628/628\u001b[0m \u001b[32m━━━━━━━━━━━━━━━━━━━━\u001b[0m\u001b[37m\u001b[0m \u001b[1m24s\u001b[0m 38ms/step - accuracy: 0.4670 - loss: 1.3841\n",
      "Epoch 4/5\n",
      "\u001b[1m628/628\u001b[0m \u001b[32m━━━━━━━━━━━━━━━━━━━━\u001b[0m\u001b[37m\u001b[0m \u001b[1m24s\u001b[0m 38ms/step - accuracy: 0.5505 - loss: 1.2012\n",
      "Epoch 5/5\n",
      "\u001b[1m628/628\u001b[0m \u001b[32m━━━━━━━━━━━━━━━━━━━━\u001b[0m\u001b[37m\u001b[0m \u001b[1m24s\u001b[0m 38ms/step - accuracy: 0.6292 - loss: 1.0049\n"
     ]
    },
    {
     "data": {
      "text/plain": [
       "<keras.src.callbacks.history.History at 0x18c0cfe10c0>"
      ]
     },
     "execution_count": 57,
     "metadata": {},
     "output_type": "execute_result"
    }
   ],
   "source": [
    "model.fit(X_train,y_train,epochs=5)"
   ]
  },
  {
   "cell_type": "code",
   "execution_count": 64,
   "id": "0d96a54c-4d96-4af1-8e05-e05fc851556d",
   "metadata": {},
   "outputs": [
    {
     "name": "stdout",
     "output_type": "stream",
     "text": [
      "\u001b[1m270/270\u001b[0m \u001b[32m━━━━━━━━━━━━━━━━━━━━\u001b[0m\u001b[37m\u001b[0m \u001b[1m2s\u001b[0m 6ms/step\n"
     ]
    }
   ],
   "source": [
    "y_pred = model.predict(X_test)"
   ]
  },
  {
   "cell_type": "code",
   "execution_count": 75,
   "id": "bd361767-42f8-4cfa-88a8-7662516709ed",
   "metadata": {},
   "outputs": [
    {
     "data": {
      "text/plain": [
       "np.int64(5)"
      ]
     },
     "execution_count": 75,
     "metadata": {},
     "output_type": "execute_result"
    }
   ],
   "source": [
    "np.argmax(y_pred[25])"
   ]
  },
  {
   "cell_type": "code",
   "execution_count": 76,
   "id": "4a0b6ac6-75b6-4863-a5e1-8df7733db899",
   "metadata": {},
   "outputs": [
    {
     "data": {
      "text/plain": [
       "np.int64(5)"
      ]
     },
     "execution_count": 76,
     "metadata": {},
     "output_type": "execute_result"
    }
   ],
   "source": [
    "y_test[25]"
   ]
  },
  {
   "cell_type": "code",
   "execution_count": 77,
   "id": "fad0358f-97e5-420a-92a9-826aaf47a7df",
   "metadata": {},
   "outputs": [
    {
     "data": {
      "text/plain": [
       "<matplotlib.image.AxesImage at 0x18c000a7580>"
      ]
     },
     "execution_count": 77,
     "metadata": {},
     "output_type": "execute_result"
    },
    {
     "data": {
      "image/png": "[encoded data removed]",
      "text/plain": [
       "<Figure size 640x480 with 1 Axes>"
      ]
     },
     "metadata": {},
     "output_type": "display_data"
    }
   ],
   "source": [
    "plt.imshow(X_test[25])"
   ]
  },
  {
   "cell_type": "code",
   "execution_count": 70,
   "id": "7db923ae-9073-459b-8eff-f4962518de78",
   "metadata": {},
   "outputs": [
    {
     "data": {
      "text/plain": [
       "{'angry': 0,\n",
       " 'disgust': 1,\n",
       " 'fear': 2,\n",
       " 'happy': 3,\n",
       " 'neutral': 4,\n",
       " 'sad': 5,\n",
       " 'surprise': 6}"
      ]
     },
     "execution_count": 70,
     "metadata": {},
     "output_type": "execute_result"
    }
   ],
   "source": [
    "mode_label"
   ]
  }
 ],
 "metadata": {
  "kernelspec": {
   "display_name": "Python 3 (ipykernel)",
   "language": "python",
   "name": "python3"
  },
  "language_info": {
   "codemirror_mode": {
    "name": "ipython",
    "version": 3
   },
   "file_extension": ".py",
   "mimetype": "text/x-python",
   "name": "python",
   "nbconvert_exporter": "python",
   "pygments_lexer": "ipython3",
   "version": "3.10.0"
  }
 },
 "nbformat": 4,
 "nbformat_minor": 5
}
