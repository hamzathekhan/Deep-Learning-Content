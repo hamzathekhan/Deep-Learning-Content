{
  "cells": [
    {
      "cell_type": "code",
      "source": [
        "import tensorflow as tf"
      ],
      "metadata": {
        "id": "wU1SypjXw7c7"
      },
      "execution_count": 7,
      "outputs": []
    },
    {
      "cell_type": "code",
      "source": [
        "daily_sales = [34,54,23,65,75,-1]"
      ],
      "metadata": {
        "id": "XO4ZYaCGw9Xv"
      },
      "execution_count": 8,
      "outputs": []
    },
    {
      "cell_type": "code",
      "source": [
        "tf_dataset = tf.data.Dataset.from_tensor_slices(daily_sales)\n",
        "tf_dataset"
      ],
      "metadata": {
        "colab": {
          "base_uri": "https://localhost:8080/"
        },
        "id": "Wu1gnlmHxROP",
        "outputId": "8ffee94c-3b82-46c0-9256-3a16bff14bca"
      },
      "execution_count": 9,
      "outputs": [
        {
          "output_type": "execute_result",
          "data": {
            "text/plain": [
              "<_TensorSliceDataset element_spec=TensorSpec(shape=(), dtype=tf.int32, name=None)>"
            ]
          },
          "metadata": {},
          "execution_count": 9
        }
      ]
    },
    {
      "cell_type": "code",
      "source": [
        "for sales in tf_dataset:\n",
        "  print(sales.numpy())"
      ],
      "metadata": {
        "colab": {
          "base_uri": "https://localhost:8080/"
        },
        "id": "f7Uimsi3xXgP",
        "outputId": "7093bfbf-6656-4872-ff33-489e87fb3e20"
      },
      "execution_count": 11,
      "outputs": [
        {
          "output_type": "stream",
          "name": "stdout",
          "text": [
            "34\n",
            "54\n",
            "23\n",
            "65\n",
            "75\n",
            "-1\n"
          ]
        }
      ]
    },
    {
      "cell_type": "code",
      "source": [
        "for sales in tf_dataset:\n",
        "  print(sales)"
      ],
      "metadata": {
        "colab": {
          "base_uri": "https://localhost:8080/"
        },
        "id": "wzse8PQJxctv",
        "outputId": "294a1828-592f-4641-8575-01e626ecb576"
      },
      "execution_count": 12,
      "outputs": [
        {
          "output_type": "stream",
          "name": "stdout",
          "text": [
            "tf.Tensor(34, shape=(), dtype=int32)\n",
            "tf.Tensor(54, shape=(), dtype=int32)\n",
            "tf.Tensor(23, shape=(), dtype=int32)\n",
            "tf.Tensor(65, shape=(), dtype=int32)\n",
            "tf.Tensor(75, shape=(), dtype=int32)\n",
            "tf.Tensor(-1, shape=(), dtype=int32)\n"
          ]
        }
      ]
    },
    {
      "cell_type": "code",
      "source": [
        "for sales in tf_dataset.take(3):\n",
        "  print(sales)"
      ],
      "metadata": {
        "colab": {
          "base_uri": "https://localhost:8080/"
        },
        "id": "RksvokKbxv3c",
        "outputId": "026e5b27-478c-4600-f3ab-025992e77e1d"
      },
      "execution_count": 14,
      "outputs": [
        {
          "output_type": "stream",
          "name": "stdout",
          "text": [
            "tf.Tensor(34, shape=(), dtype=int32)\n",
            "tf.Tensor(54, shape=(), dtype=int32)\n",
            "tf.Tensor(23, shape=(), dtype=int32)\n"
          ]
        }
      ]
    },
    {
      "cell_type": "code",
      "source": [
        "##Filtering Number\n",
        "tf_dataset = tf_dataset.filter(lambda x : x>0)\n",
        "for sales in tf_dataset.as_numpy_iterator():\n",
        "  print(sales)"
      ],
      "metadata": {
        "colab": {
          "base_uri": "https://localhost:8080/"
        },
        "id": "hInajY7vx6O9",
        "outputId": "d095bd23-2a87-4fa6-a925-f3ef4e49e86f"
      },
      "execution_count": 15,
      "outputs": [
        {
          "output_type": "stream",
          "name": "stdout",
          "text": [
            "34\n",
            "54\n",
            "23\n",
            "65\n",
            "75\n"
          ]
        }
      ]
    },
    {
      "cell_type": "code",
      "source": [
        "### Map\n",
        "\n",
        "tf_dataset = tf_dataset.map(lambda x : x*72)\n",
        "for sales in tf_dataset:\n",
        "  print(sales.numpy())"
      ],
      "metadata": {
        "colab": {
          "base_uri": "https://localhost:8080/"
        },
        "id": "QTH1loWqyHKd",
        "outputId": "6fe73028-280f-411e-9bc4-d70981b7acbc"
      },
      "execution_count": 18,
      "outputs": [
        {
          "output_type": "stream",
          "name": "stdout",
          "text": [
            "2448\n",
            "3888\n",
            "1656\n",
            "4680\n",
            "5400\n"
          ]
        }
      ]
    },
    {
      "cell_type": "code",
      "source": [
        "## Shuffle\n",
        "tf_dataset = tf_dataset.shuffle(buffer = 3)\n",
        "for sales in tf_dataset:\n",
        "  print(sales.numpy())"
      ],
      "metadata": {
        "colab": {
          "base_uri": "https://localhost:8080/"
        },
        "id": "6CO4S1J6yiZ8",
        "outputId": "a1d27bcd-2082-4b69-a9a3-f1ffb07138e6"
      },
      "execution_count": 19,
      "outputs": [
        {
          "output_type": "stream",
          "name": "stdout",
          "text": [
            "1656\n",
            "2448\n",
            "4680\n",
            "5400\n",
            "3888\n"
          ]
        }
      ]
    },
    {
      "cell_type": "code",
      "source": [
        "## Batches\n",
        "for sales in tf_dataset.batch(3):\n",
        "  print(sales.numpy())"
      ],
      "metadata": {
        "colab": {
          "base_uri": "https://localhost:8080/"
        },
        "id": "BCZlP_9PzCvJ",
        "outputId": "7f50e8b2-b3c8-49e1-d6da-e55088187b72"
      },
      "execution_count": 22,
      "outputs": [
        {
          "output_type": "stream",
          "name": "stdout",
          "text": [
            "[3888 4680 1656]\n",
            "[5400 2448]\n"
          ]
        }
      ]
    },
    {
      "cell_type": "code",
      "source": [
        "### Pipeline\n",
        "tf_dataset = tf.data.Dataset.from_tensor_slices(daily_sales)\n",
        "tf_dataset = tf_dataset.filter(lambda x : x>0).map(lambda y : y*72).shuffle(2).batch(2)\n",
        "for sales in tf_dataset.as_numpy_iterator():\n",
        "  print(sales)\n"
      ],
      "metadata": {
        "colab": {
          "base_uri": "https://localhost:8080/"
        },
        "id": "hfURcDgTzU4p",
        "outputId": "6e7fb111-cf43-429b-8d22-f6170c401633"
      },
      "execution_count": 23,
      "outputs": [
        {
          "output_type": "stream",
          "name": "stdout",
          "text": [
            "[2448 3888]\n",
            "[1656 4680]\n",
            "[5400]\n"
          ]
        }
      ]
    },
    {
      "cell_type": "code",
      "source": [
        "import os\n",
        "os.getcwd()"
      ],
      "metadata": {
        "colab": {
          "base_uri": "https://localhost:8080/",
          "height": 36
        },
        "id": "W4iHhLoY2hDG",
        "outputId": "6e7a185f-4ff3-441c-9662-585aca30d569"
      },
      "execution_count": 29,
      "outputs": [
        {
          "output_type": "execute_result",
          "data": {
            "text/plain": [
              "'/content'"
            ],
            "application/vnd.google.colaboratory.intrinsic+json": {
              "type": "string"
            }
          },
          "metadata": {},
          "execution_count": 29
        }
      ]
    },
    {
      "cell_type": "code",
      "source": [
        "images_ds = tf.data.Dataset.list_files(\"/content/Images/*/*\" , shuffle=False)\n",
        "for img in images_ds.take(5):\n",
        "  print(img.numpy())"
      ],
      "metadata": {
        "colab": {
          "base_uri": "https://localhost:8080/"
        },
        "id": "w_bIFIGEz6b6",
        "outputId": "9b6bc1b3-ad33-43dc-d245-44295d111ff6"
      },
      "execution_count": 31,
      "outputs": [
        {
          "output_type": "stream",
          "name": "stdout",
          "text": [
            "b'/content/Images/Cat/10001.jpg'\n",
            "b'/content/Images/Cat/10002.jpeg'\n",
            "b'/content/Images/Cat/10003.jpg'\n",
            "b'/content/Images/Cat/10004.jpg'\n",
            "b'/content/Images/Cat/10005.jpg'\n"
          ]
        }
      ]
    },
    {
      "cell_type": "code",
      "source": [
        "images_ds = images_ds.shuffle(200)\n",
        "for img in images_ds.take(3):\n",
        "  print(img.numpy())"
      ],
      "metadata": {
        "colab": {
          "base_uri": "https://localhost:8080/"
        },
        "id": "fWmGa9Ss20Sz",
        "outputId": "194d0e94-f432-42aa-bf70-49aba2dc747c"
      },
      "execution_count": 33,
      "outputs": [
        {
          "output_type": "stream",
          "name": "stdout",
          "text": [
            "b'/content/Images/Dog/10010.jpg'\n",
            "b'/content/Images/Dog/10007.jpg'\n",
            "b'/content/Images/Cat/10017.jpg'\n"
          ]
        }
      ]
    },
    {
      "cell_type": "code",
      "source": [
        "class_names = [\"cat\" , \"dog\"]"
      ],
      "metadata": {
        "id": "8gq0VWy92_40"
      },
      "execution_count": 34,
      "outputs": []
    },
    {
      "cell_type": "code",
      "source": [
        "img_count = len(images_ds)\n",
        "img_count"
      ],
      "metadata": {
        "colab": {
          "base_uri": "https://localhost:8080/"
        },
        "id": "m3F9CwIi3BaI",
        "outputId": "6fb690a8-05c4-4fd9-c529-eafe9bc38297"
      },
      "execution_count": 36,
      "outputs": [
        {
          "output_type": "execute_result",
          "data": {
            "text/plain": [
              "36"
            ]
          },
          "metadata": {},
          "execution_count": 36
        }
      ]
    },
    {
      "cell_type": "code",
      "source": [
        "train_size = int(img_count*0.8)\n",
        "train_size"
      ],
      "metadata": {
        "colab": {
          "base_uri": "https://localhost:8080/"
        },
        "id": "sU-_zujo3LjZ",
        "outputId": "5e77bbb6-1afa-4ef4-c6bd-c58f23091545"
      },
      "execution_count": 37,
      "outputs": [
        {
          "output_type": "execute_result",
          "data": {
            "text/plain": [
              "28"
            ]
          },
          "metadata": {},
          "execution_count": 37
        }
      ]
    },
    {
      "cell_type": "code",
      "source": [
        "train_ds = images_ds.take(train_size)\n",
        "test_ds = images_ds.skip(train_size)"
      ],
      "metadata": {
        "id": "tnYjwpZi3VkD"
      },
      "execution_count": 39,
      "outputs": []
    },
    {
      "cell_type": "code",
      "source": [
        "len(train_ds) , len(test_ds)"
      ],
      "metadata": {
        "colab": {
          "base_uri": "https://localhost:8080/"
        },
        "id": "oqcVQ-OA3eyR",
        "outputId": "365d6f83-04b6-4abb-aa01-d9f6a6116dbb"
      },
      "execution_count": 40,
      "outputs": [
        {
          "output_type": "execute_result",
          "data": {
            "text/plain": [
              "(28, 8)"
            ]
          },
          "metadata": {},
          "execution_count": 40
        }
      ]
    },
    {
      "cell_type": "code",
      "source": [
        "t = \"MY name is Hamza\"\n",
        "x = t.split(\" \")\n",
        "x[-1]"
      ],
      "metadata": {
        "colab": {
          "base_uri": "https://localhost:8080/",
          "height": 36
        },
        "id": "E-FkYvQ03vcD",
        "outputId": "61a7f46d-ac8a-4ffe-9f0e-a32e0f192bf8"
      },
      "execution_count": 51,
      "outputs": [
        {
          "output_type": "execute_result",
          "data": {
            "text/plain": [
              "'Hamza'"
            ],
            "application/vnd.google.colaboratory.intrinsic+json": {
              "type": "string"
            }
          },
          "metadata": {},
          "execution_count": 51
        }
      ]
    },
    {
      "cell_type": "code",
      "source": [
        "def get_label(file_path):\n",
        "  import os\n",
        "  return tf.strings.split(file_path,os.path.sep)[-2]"
      ],
      "metadata": {
        "id": "vg7kgq8t4Iwi"
      },
      "execution_count": 60,
      "outputs": []
    },
    {
      "cell_type": "code",
      "source": [
        "def process_img(file_path):\n",
        "  label = get_label(file_path)\n",
        "  img = tf.io.read_file(file_path)\n",
        "  img = tf.image.decode_jpeg(img)\n",
        "  img = tf.image.resize(img,[128,128])\n",
        "  return img , label"
      ],
      "metadata": {
        "id": "plf28BP96BsN"
      },
      "execution_count": 62,
      "outputs": []
    },
    {
      "cell_type": "code",
      "source": [
        "for t in train_ds.take(4):\n",
        "  print(t.numpy())"
      ],
      "metadata": {
        "colab": {
          "base_uri": "https://localhost:8080/"
        },
        "id": "eO73Vqe74idv",
        "outputId": "ee69afc7-77ce-4635-9fae-ed5d2f6b1677"
      },
      "execution_count": 53,
      "outputs": [
        {
          "output_type": "stream",
          "name": "stdout",
          "text": [
            "b'/content/Images/Cat/10017.jpg'\n",
            "b'/content/Images/Cat/10009.jpg'\n",
            "b'/content/Images/Dog/10008.jpg'\n",
            "b'/content/Images/Dog/10015.jpg'\n"
          ]
        }
      ]
    },
    {
      "cell_type": "code",
      "source": [
        "train_ds = train_ds.map(process_img)\n",
        "for img , label in train_ds.take(3):\n",
        "  print(\"Image: \" , img)\n",
        "  print(\"Label: \",label)"
      ],
      "metadata": {
        "colab": {
          "base_uri": "https://localhost:8080/"
        },
        "id": "afsa7QyM48tf",
        "outputId": "4c833ac9-7e64-4b49-c07a-25c3ee7479da"
      },
      "execution_count": 65,
      "outputs": [
        {
          "output_type": "stream",
          "name": "stdout",
          "text": [
            "Image:  tf.Tensor(\n",
            "[[[ 31.203125   29.203125   17.203125 ]\n",
            "  [ 24.73172    22.73172    10.73172  ]\n",
            "  [ 17.190887   15.190887    3.1908875]\n",
            "  ...\n",
            "  [ 44.983337   69.07474    24.993225 ]\n",
            "  [ 42.16391    72.64453    24.83078  ]\n",
            "  [ 39.509583   76.874115   26.       ]]\n",
            "\n",
            " [[ 27.691406   25.691406   13.691406 ]\n",
            "  [ 22.371094   20.371094    8.371094 ]\n",
            "  [ 15.998444   13.998444    2.1328125]\n",
            "  ...\n",
            "  [ 45.13437    71.49219    25.175781 ]\n",
            "  [ 42.132965   74.42969    24.679688 ]\n",
            "  [ 39.91281    79.41531    26.654999 ]]\n",
            "\n",
            " [[ 29.487762   26.487762   17.487762 ]\n",
            "  [ 25.355469   22.355469   13.355469 ]\n",
            "  [ 20.259125   17.259125    8.259125 ]\n",
            "  ...\n",
            "  [ 46.         74.53906    24.152344 ]\n",
            "  [ 42.773438   78.25       24.238281 ]\n",
            "  [ 40.18802    82.44479    26.558594 ]]\n",
            "\n",
            " ...\n",
            "\n",
            " [[204.44351   197.91226   174.9396   ]\n",
            "  [221.04544   215.71967   192.65637  ]\n",
            "  [228.73828   225.54037   204.84244  ]\n",
            "  ...\n",
            "  [217.49231   220.10818   210.72928  ]\n",
            "  [227.0452    228.26474   215.88351  ]\n",
            "  [227.99918   231.33017   215.70517  ]]\n",
            "\n",
            " [[154.03085   153.41882   135.30664  ]\n",
            "  [134.56168   132.88559   111.595764 ]\n",
            "  [144.92859   141.84344   117.76456  ]\n",
            "  ...\n",
            "  [229.07584   227.25317   210.8938   ]\n",
            "  [233.14215   233.84091   217.94278  ]\n",
            "  [224.5394    228.9508    215.01987  ]]\n",
            "\n",
            " [[103.98697   116.02994   109.68317  ]\n",
            "  [111.71063   118.77969   104.39438  ]\n",
            "  [131.3389    133.56989   111.57822  ]\n",
            "  ...\n",
            "  [234.28906   235.14792   221.4302   ]\n",
            "  [232.26172   235.39984   221.91156  ]\n",
            "  [226.29297   235.18057   220.9501   ]]], shape=(128, 128, 3), dtype=float32)\n",
            "Label:  tf.Tensor(b'Cat', shape=(), dtype=string)\n",
            "Image:  tf.Tensor(\n",
            "[[[255.      255.      255.     ]\n",
            "  [255.      255.      255.     ]\n",
            "  [255.      255.      255.     ]\n",
            "  ...\n",
            "  [255.      255.      255.     ]\n",
            "  [255.      255.      255.     ]\n",
            "  [255.      255.      255.     ]]\n",
            "\n",
            " [[255.      255.      255.     ]\n",
            "  [255.      255.      255.     ]\n",
            "  [255.      255.      255.     ]\n",
            "  ...\n",
            "  [255.      255.      255.     ]\n",
            "  [255.      255.      255.     ]\n",
            "  [255.      255.      255.     ]]\n",
            "\n",
            " [[255.      255.      255.     ]\n",
            "  [255.      255.      255.     ]\n",
            "  [255.      255.      255.     ]\n",
            "  ...\n",
            "  [255.      255.      255.     ]\n",
            "  [255.      255.      255.     ]\n",
            "  [255.      255.      255.     ]]\n",
            "\n",
            " ...\n",
            "\n",
            " [[255.      255.      255.     ]\n",
            "  [255.      255.      255.     ]\n",
            "  [255.      255.      255.     ]\n",
            "  ...\n",
            "  [254.      254.      254.     ]\n",
            "  [254.      254.      254.     ]\n",
            "  [253.3789  254.6211  254.     ]]\n",
            "\n",
            " [[255.      255.      255.     ]\n",
            "  [255.      255.      255.     ]\n",
            "  [255.      255.      255.     ]\n",
            "  ...\n",
            "  [254.86328 254.86328 254.86328]\n",
            "  [254.86328 254.86328 254.86328]\n",
            "  [254.24219 254.9482  254.86328]]\n",
            "\n",
            " [[255.      255.      255.     ]\n",
            "  [255.      255.      255.     ]\n",
            "  [255.      255.      255.     ]\n",
            "  ...\n",
            "  [255.      255.      255.     ]\n",
            "  [255.      255.      255.     ]\n",
            "  [254.76466 255.      255.     ]]], shape=(128, 128, 3), dtype=float32)\n",
            "Label:  tf.Tensor(b'Dog', shape=(), dtype=string)\n",
            "Image:  tf.Tensor(\n",
            "[[[105.946945 124.946945 130.94695 ]\n",
            "  [ 92.91016  110.62109  117.265625]\n",
            "  [ 72.88672   89.96094   96.73828 ]\n",
            "  ...\n",
            "  [248.       254.       254.      ]\n",
            "  [248.       254.       254.      ]\n",
            "  [248.       254.       254.      ]]\n",
            "\n",
            " [[106.49609  125.49609  131.4961  ]\n",
            "  [ 93.7314   111.44234  118.08687 ]\n",
            "  [ 73.62996   90.70418   97.48152 ]\n",
            "  ...\n",
            "  [248.       254.       254.      ]\n",
            "  [248.       254.       254.      ]\n",
            "  [248.       254.       254.      ]]\n",
            "\n",
            " [[107.49609  126.49609  132.4961  ]\n",
            "  [ 94.82707  112.53801  119.18254 ]\n",
            "  [ 74.76738   91.8416    98.61894 ]\n",
            "  ...\n",
            "  [248.       254.       254.      ]\n",
            "  [248.       254.       254.      ]\n",
            "  [248.       254.       254.      ]]\n",
            "\n",
            " ...\n",
            "\n",
            " [[117.112885 124.6832   111.26593 ]\n",
            "  [130.20941  133.63129  119.63129 ]\n",
            "  [115.423355 113.12648   98.2007  ]\n",
            "  ...\n",
            "  [243.48438  252.25781  254.      ]\n",
            "  [243.48438  252.25781  254.      ]\n",
            "  [243.48438  252.25781  254.      ]]\n",
            "\n",
            " [[125.89354  131.27927  117.45802 ]\n",
            "  [ 88.764145  92.069016  79.724335]\n",
            "  [ 62.636826  62.679047  52.47908 ]\n",
            "  ...\n",
            "  [240.55469  253.44531  253.72266 ]\n",
            "  [240.55469  253.44531  253.72266 ]\n",
            "  [240.55469  253.44531  253.72266 ]]\n",
            "\n",
            " [[123.96666  125.96666  113.39635 ]\n",
            "  [121.948105 124.592636 116.17076 ]\n",
            "  [110.342255 112.49069  109.936005]\n",
            "  ...\n",
            "  [243.       251.       253.      ]\n",
            "  [243.       251.       253.      ]\n",
            "  [243.       251.       253.      ]]], shape=(128, 128, 3), dtype=float32)\n",
            "Label:  tf.Tensor(b'Cat', shape=(), dtype=string)\n"
          ]
        }
      ]
    },
    {
      "cell_type": "code",
      "source": [
        "def scale(image,label):\n",
        "  return image/255 , label"
      ],
      "metadata": {
        "id": "mNPdcWm9540t"
      },
      "execution_count": 64,
      "outputs": []
    },
    {
      "cell_type": "code",
      "source": [
        "train_ds = train_ds.map(scale)\n",
        "for image , label  in train_ds.take(5):\n",
        "  print(\"Image: \" , image.numpy()[0][0])\n",
        "  print(\"Label: \" , label.numpy())"
      ],
      "metadata": {
        "colab": {
          "base_uri": "https://localhost:8080/"
        },
        "id": "3zbwZXJh7Taa",
        "outputId": "0c992fc8-d222-484b-dedd-5f76237d6745"
      },
      "execution_count": 67,
      "outputs": [
        {
          "output_type": "stream",
          "name": "stdout",
          "text": [
            "Image:  [0.92941177 0.92941177 0.92941177]\n",
            "Label:  b'Dog'\n",
            "Image:  [0.66122216 0.27298686 0.18279079]\n",
            "Label:  b'Cat'\n",
            "Image:  [0.41547823 0.48998803 0.51351744]\n",
            "Label:  b'Cat'\n",
            "Image:  [0.3882353  0.21960784 0.25490198]\n",
            "Label:  b'Cat'\n",
            "Image:  [0.         0.5058824  0.69803923]\n",
            "Label:  b'Cat'\n"
          ]
        }
      ]
    }
  ],
  "metadata": {
    "colab": {
      "provenance": []
    },
    "kernelspec": {
      "display_name": "Python 3",
      "name": "python3"
    },
    "language_info": {
      "name": "python"
    }
  },
  "nbformat": 4,
  "nbformat_minor": 0
}